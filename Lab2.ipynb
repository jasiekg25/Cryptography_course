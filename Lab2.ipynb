{
 "cells": [
  {
   "cell_type": "markdown",
   "metadata": {},
   "source": [
    "# Kryptografia z kluczem tajnym (symetryczna): szyfry strumieniowe\n",
    "### Literatura:\n",
    "1. Nowoczesna kryptografia, Aumasson\n",
    "2. Kryptografia dla praktyków, Schneier"
   ]
  },
  {
   "cell_type": "markdown",
   "metadata": {},
   "source": [
    "## 1. Problem: \n",
    "\n",
    "Napisz prosty program szyfrujący strumień tekstu jawnego przy pomocy operatora logicznego. Jaki operator logiczny będzie najwygodniejszy? W jaki sposób wytworzysz strumień klucza? "
   ]
  },
  {
   "cell_type": "code",
   "execution_count": 4,
   "metadata": {},
   "outputs": [
    {
     "name": "stdout",
     "output_type": "stream",
     "text": [
      "Tekst jawny (znakowo) ['k', 'r', 'y', 'p', 't', 'o', 'g', 'r', 'a', 'f', 'i', 'a']\n",
      "Tekst jawny (liczbowo): [107, 114, 121, 112, 116, 111, 103, 114, 97, 102, 105, 97]\n",
      "Tekst jawny (napisowo): kryptografia\n",
      "Losowe bajty [221, 143, 230, 71, 238, 233, 124, 214]\n",
      "11011101 10001111 11100110 01000111 11101110 11101001 01111100 11010110 "
     ]
    }
   ],
   "source": [
    "# funkcje i algorytmy pomocnicze \n",
    "import random\n",
    "import numpy as numpy\n",
    "random.seed(\"key\")  #generator PRNG w python można inicjalizować tekstem\n",
    "\n",
    "message = \"kryptografia\"\n",
    "\n",
    "letters = list(message) #Jak zamienić tekst w tablicę \n",
    "print(\"Tekst jawny (znakowo)\", letters)\n",
    "\n",
    "mesg_array = list(message)\n",
    "plaintext = []\n",
    "\n",
    "#tablica znaków w tablicę kodów int\n",
    "def intoIntArray(message: str):\n",
    "    int_array = []\n",
    "    mesg_array = list(message) \n",
    "    for i in mesg_array:\n",
    "        int_array.append(ord(i))\n",
    "    return int_array\n",
    "\n",
    "#tablica kodów int w tablice znaków \n",
    "def intoCharArray(message: []):\n",
    "    mesg_char = []\n",
    "    for i in message:\n",
    "        mesg_char.append(chr(i))\n",
    "    return mesg_char\n",
    "\n",
    "plaintext = intoIntArray(message)\n",
    "print(\"Tekst jawny (liczbowo):\", plaintext) \n",
    "\n",
    "#tablica znaków w napis \n",
    "plaintext_str = intoCharArray(plaintext)\n",
    "print(\"Tekst jawny (napisowo):\", ''.join(plaintext_str))\n",
    "\n",
    "\n",
    "\n",
    "# jak wyświetlić dane w postaci binarnej \n",
    "get_bin = lambda x, n: format(x, 'b').zfill(n)\n",
    "def printBinary(data: []):\n",
    "    for i in data:\n",
    "        print(get_bin(i,8), end=' ')\n",
    "\n",
    "        \n",
    "\n",
    "# jak wygenerować 8 losowych bitów (razy n)\n",
    "def randomBytes(n):\n",
    "    return bytes(random.getrandbits(8) for i in range(n))\n",
    "\n",
    "random_stream = []\n",
    "for i in range(8):\n",
    "    random_stream.append(int.from_bytes(randomBytes(1), byteorder='big'))\n",
    "\n",
    "print(\"Losowe bajty\", random_stream)   \n",
    "printBinary(random_stream)\n"
   ]
  },
  {
   "cell_type": "code",
   "execution_count": 34,
   "metadata": {},
   "outputs": [
    {
     "name": "stdout",
     "output_type": "stream",
     "text": [
      "Original message: This is a secret message\n",
      "\n",
      "Original IntArray from message: [84, 104, 105, 115, 32, 105, 115, 32, 97, 32, 115, 101, 99, 114, 101, 116, 32, 109, 101, 115, 115, 97, 103, 101]\n",
      "\n",
      "Encripted: [98, 136, 158, 68, 34, 110, 142, 168, 128, 227, 97, 67, 177, 13, 210, 96, 42, 119, 17, 211, 63, 104, 132, 105]\n",
      "\n",
      "Descripted IntArray: [84, 104, 105, 115, 32, 105, 115, 32, 97, 32, 115, 101, 99, 114, 101, 116, 32, 109, 101, 115, 115, 97, 103, 101]\n",
      "\n",
      "Decripted message: This is a secret message\n",
      "\n",
      "01010100 01101000 01101001 01110011 00100000 01101001 01110011 00100000 01100001 00100000 01110011 01100101 01100011 01110010 01100101 01110100 00100000 01101101 01100101 01110011 01110011 01100001 01100111 01100101 "
     ]
    }
   ],
   "source": [
    "key = 'Key'\n",
    "message = 'This is a secret message'\n",
    "\n",
    "plaintext = intoIntArray(message)\n",
    "encripted = []\n",
    "\n",
    "\n",
    "def str_xor_encoder(text : [], key: str):\n",
    "    random.seed(key)\n",
    "    output_str = []\n",
    "    for i in text:\n",
    "        current_key = int.from_bytes(randomBytes(1), byteorder='big')\n",
    "        output_str.append(i ^ current_key)\n",
    "    return output_str\n",
    "\n",
    "print(\"Original message: \" + message + '\\n')\n",
    "print(\"Original IntArray from message: \" + str(plaintext) + '\\n')\n",
    "encripted = str_xor_encoder(plaintext, key)\n",
    "print(\"Encripted: \" + str(encripted) + '\\n')\n",
    "decripted = str_xor_encoder(encripted, key)\n",
    "print(\"Descripted IntArray: \" + str(decripted) + '\\n')\n",
    "print(\"Decripted message: \" + ''.join(intoCharArray(decripted)) + '\\n')"
   ]
  },
  {
   "cell_type": "markdown",
   "metadata": {},
   "source": [
    "### Zastanów się: \n",
    "1. Poszukaj informacji o szyfrach binarnie addytywnych \n",
    "2. Poszukaj informacji o szyfrach strumieniowych używanych w praktyce. Gdzie takie szyfry mogą być obecnie stosowane? "
   ]
  },
  {
   "cell_type": "markdown",
   "metadata": {},
   "source": [
    "## Problem 2 \n",
    "Utwórz dwie różne wiadomości równej długości. Zaszyfruj je szyfrem XOR z użyciem tego samego klucza. Wyznacz alternatywę rozłączną szyfrogramów (XOR) i porównaj ją z tą samą operacją wykonaną dla tekstów jawnych. Jakie znaczenie ma wynik z punktu widzenia kryptoanalizy. "
   ]
  },
  {
   "cell_type": "code",
   "execution_count": 30,
   "metadata": {},
   "outputs": [
    {
     "name": "stdout",
     "output_type": "stream",
     "text": [
      "3\n",
      "10\n",
      "22\n",
      "20\n",
      "11\n",
      "13\n",
      "\t\n",
      "3\n",
      "10\n",
      "22\n",
      "20\n",
      "11\n",
      "13\n"
     ]
    }
   ],
   "source": [
    "message1 = 'secret'\n",
    "message2 = 'poufny'\n",
    "\n",
    "key0 = 'Jasiek'\n",
    "\n",
    "decoded1 = str_xor_encoder(intoIntArray(message1), key0)\n",
    "decoded2 = str_xor_encoder(intoIntArray(message2), key0)\n",
    "\n",
    "for i in range(len(decoded1)):\n",
    "    print(decoded1[i] ^ decoded2[i])\n",
    "print('\\n')\n",
    "for i in range(len(intoIntArray(message1))):\n",
    "    print(intoIntArray(message1)[i] ^ intoIntArray(message2)[i])\n",
    "\n"
   ]
  },
  {
   "cell_type": "markdown",
   "metadata": {},
   "source": [
    "### Bezpieczeństwo szyfru XOR\n",
    "1. Jeśli OTP to OK.\n",
    "2. Na czym polega atak ze znanym tekstem jawnym?"
   ]
  },
  {
   "cell_type": "markdown",
   "metadata": {},
   "source": [
    "## Problem 3\n",
    "1. Utwórz dowolną wiadomość $M_1$. \n",
    "2. Zaszyfruj ją swoim szyfrem XOR z kluczem $K$. \n",
    "3. Wykonaj na szyfrogramie $C_1$ operację $C_2 = C_1 \\oplus (111\\ldots1)$. \n",
    "4. Odszyfruj wiadomość $C_2$ stosując ten sam klucz $K$. \n",
    "5. Porównaj wiadomości: $M_1$ i odszyfrowaną w poprzednim kroku $M_2$ (najlepiej binarnie). "
   ]
  },
  {
   "cell_type": "code",
   "execution_count": 46,
   "metadata": {},
   "outputs": [
    {
     "ename": "TypeError",
     "evalue": "Required argument 'length' (pos 1) not found",
     "output_type": "error",
     "traceback": [
      "\u001B[0;31m---------------------------------------------------------------------------\u001B[0m",
      "\u001B[0;31mTypeError\u001B[0m                                 Traceback (most recent call last)",
      "\u001B[0;32m<ipython-input-46-5c2f3edd570b>\u001B[0m in \u001B[0;36m<module>\u001B[0;34m\u001B[0m\n\u001B[1;32m      4\u001B[0m \u001B[0mnewEncripted\u001B[0m \u001B[0;34m=\u001B[0m \u001B[0;34m[\u001B[0m\u001B[0;34m]\u001B[0m\u001B[0;34m\u001B[0m\u001B[0;34m\u001B[0m\u001B[0m\n\u001B[1;32m      5\u001B[0m \u001B[0;32mfor\u001B[0m \u001B[0mi\u001B[0m \u001B[0;32min\u001B[0m \u001B[0mrange\u001B[0m\u001B[0;34m(\u001B[0m\u001B[0mlen\u001B[0m\u001B[0;34m(\u001B[0m\u001B[0mmyEncripted\u001B[0m\u001B[0;34m)\u001B[0m\u001B[0;34m)\u001B[0m\u001B[0;34m:\u001B[0m\u001B[0;34m\u001B[0m\u001B[0;34m\u001B[0m\u001B[0m\n\u001B[0;32m----> 6\u001B[0;31m     \u001B[0mnewEncripted\u001B[0m\u001B[0;34m.\u001B[0m\u001B[0mappend\u001B[0m\u001B[0;34m(\u001B[0m\u001B[0mmyEncripted\u001B[0m\u001B[0;34m[\u001B[0m\u001B[0mi\u001B[0m\u001B[0;34m]\u001B[0m \u001B[0;34m^\u001B[0m \u001B[0mint\u001B[0m\u001B[0;34m.\u001B[0m\u001B[0mto_bytes\u001B[0m\u001B[0;34m(\u001B[0m\u001B[0;36m1\u001B[0m\u001B[0;34m)\u001B[0m\u001B[0;34m)\u001B[0m\u001B[0;34m\u001B[0m\u001B[0;34m\u001B[0m\u001B[0m\n\u001B[0m\u001B[1;32m      7\u001B[0m \u001B[0;34m\u001B[0m\u001B[0m\n\u001B[1;32m      8\u001B[0m \u001B[0mmyDescripted\u001B[0m \u001B[0;34m=\u001B[0m \u001B[0mstr_xor_encoder\u001B[0m\u001B[0;34m(\u001B[0m\u001B[0mmyEncripted\u001B[0m\u001B[0;34m,\u001B[0m \u001B[0mmyKey\u001B[0m\u001B[0;34m)\u001B[0m\u001B[0;34m\u001B[0m\u001B[0;34m\u001B[0m\u001B[0m\n",
      "\u001B[0;31mTypeError\u001B[0m: Required argument 'length' (pos 1) not found"
     ]
    }
   ],
   "source": [
    "myMessage = 'Jasiek'\n",
    "myKey = 'Key'\n",
    "myEncripted = str_xor_encoder(intoIntArray(myMessage), myKey)\n",
    "newEncripted = []\n",
    "for i in range(len(myEncripted)):\n",
    "    newEncripted.append(myEncripted[i] ^ int.to_bytes(1))\n",
    "\n",
    "myDescripted = str_xor_encoder(myEncripted, myKey)\n",
    "\n",
    "print('myMessage: ')\n",
    "printBinary(intoIntArray(myMessage))\n",
    "print('\\n\\n' + 'Encripted: ')\n",
    "printBinary(myEncripted)\n",
    "print('\\n\\n' + 'Encripted xor 255: ')\n",
    "printBinary(newEncripted)\n",
    "print('\\n\\n' + 'Descripted: ')\n",
    "printBinary(myDescripted)\n",
    "\n",
    "\n",
    "\n"
   ]
  },
  {
   "cell_type": "markdown",
   "metadata": {},
   "source": [
    "# Szyfr strumieniowy RC4\n",
    "\n",
    "1. Odkryj sposób działania algorytmu RC4. Poszukaj informacji gdzie był używany RC4.\n",
    "\n",
    "A) Inicjalizacja generatora liczb pseudolosowych:\n",
    "    \n",
    "    a) zainicjuj tablicę S liczbami od 0 do 255\n",
    "    b) permutuj tablicę S 256 razy (i=0...255); od j=0:\n",
    "        i = i + 1\n",
    "        j = (j + S[i] + K[i mod KeyLength]) mod 256\n",
    "        swap(S[i], S[j])\n",
    "    \n",
    "\n",
    "B) Generowanie strumienia klucza (od i,j=0):\n",
    "\n",
    "    a) i = (i + 1) mod 256\n",
    "    b) j = (j + S[i]) mod 256\n",
    "    c) swap(S[i], S[j])\n",
    "    d) keyStreamByte = S[(S[i]+S[j]) mod 256]\n",
    "    c) cipherByte = plaintextByte^keyStreamByte"
   ]
  },
  {
   "cell_type": "code",
   "execution_count": 54,
   "metadata": {},
   "outputs": [
    {
     "data": {
      "text/plain": "<Figure size 1080x648 with 0 Axes>"
     },
     "metadata": {},
     "output_type": "display_data"
    }
   ],
   "source": [
    "import codecs\n",
    "import matplotlib.pyplot as plt\n",
    "plt.figure(figsize=(15,9))\n",
    "\n",
    "MOD = 256\n",
    "#inicjalizacja generatora szyfru RC4\n",
    "\n",
    "def KSA(key):\n",
    "    key_length = len(key)\n",
    "    # inicjalizuj tablice permutacji S\n",
    "    S = []\n",
    "    for i in range(256):\n",
    "        S.append(i)\n",
    "    j = 0\n",
    "\n",
    "    for i in range(256):\n",
    "        j = (j + S[i] + key[i % key_length]) % 256\n",
    "        S[i], S[j] = S[j], S[i]  # swap\n",
    "    return S"
   ]
  },
  {
   "cell_type": "code",
   "execution_count": 55,
   "metadata": {},
   "outputs": [],
   "source": [
    "#generator liczb pseudolosowych RC4\n",
    "def PRGA(S):\n",
    "    #...\n",
    "    i = 0\n",
    "    j = 0\n",
    "    while True:\n",
    "      # napisz kod tutaj \n",
    "        i = (i + 1) % 256\n",
    "        j = (j + S[i]) % 256\n",
    "        S[i], S[j] = S[j], S[i]  # swap\n",
    "        K = S[(S[i] + S[j]) % 256]\n",
    "        yield K"
   ]
  },
  {
   "cell_type": "code",
   "execution_count": 56,
   "metadata": {},
   "outputs": [
    {
     "name": "stdout",
     "output_type": "stream",
     "text": [
      "Tekst jawny: Lorem ipsum dolor sit amet, consectetur adipiscing elit. Proin nibh augue, suscipit a, scelerisque sed, lacinia in, mi.\n",
      "Szyfrogram: 5D35E951F8AB6369A98A3FD2F35341B4B96AC00E048B805F1891C10D91C63851D607296EFBA4A8160CC3E2C0D4909273D5329756ADAEB6B59438B9AFFDF6E1F4A43715DD4EA1972165F09D9E1833BEE9FF9B2F680DBD7152835FC2F9361F9D4AC293D9929067191EDB06BA477010D8EB7F4C77E0083408\n",
      "Tekst odszyfrowany: Lorem ipsum dolor sit amet, consectetur adipiscing elit. Proin nibh augue, suscipit a, scelerisque sed, lacinia in, mi.\n"
     ]
    }
   ],
   "source": [
    "def get_keystream(key):\n",
    "    S = KSA(key)\n",
    "    return PRGA(S)\n",
    "\n",
    "\n",
    "def encrypt_logic(key, text, kstr):\n",
    "    key = [ord(c) for c in key]\n",
    "    keystream = get_keystream(key)\n",
    "    res = []\n",
    "    for c in text:\n",
    "        ks = next(keystream)\n",
    "        #kstr.append(ks)\n",
    "        val = (\"%02X\" % (c ^ ks))  # XOR and taking hex\n",
    "        res.append(val)\n",
    "    return ''.join(res)\n",
    "\n",
    "\n",
    "def encrypt(key, plaintext):\n",
    "    kstream =[]\n",
    "    plaintext = [ord(c) for c in plaintext]\n",
    "    text = encrypt_logic(key, plaintext,kstream)\n",
    "    #print(\"\\n Key stream :\", kstream)\n",
    "    # matplotlib histogram\n",
    "    #plt.hist(kstream, color = 'blue', edgecolor = 'black', bins = 256)\n",
    "    #plt.title('Histogram of RC4 key stream')\n",
    "    #plt.xlabel('Values')\n",
    "    #plt.ylabel('Frequency')\n",
    "    #plt.figure(figsize=(15,19))\n",
    "    #plt.show()\n",
    "    return text\n",
    "\n",
    "def decrypt(key, ciphertext):\n",
    "    kstream =[]\n",
    "    ciphertext = codecs.decode(ciphertext, 'hex_codec')\n",
    "    res = encrypt_logic(key, ciphertext,kstream)\n",
    "    return codecs.decode(res, 'hex_codec').decode('utf-8')\n",
    "\n",
    "\n",
    "def main():\n",
    "\n",
    "    key = 'klucz-szyfrowy'  # plaintext\n",
    "    plaintext = 'Lorem ipsum dolor sit amet, consectetur adipiscing elit. Proin nibh augue, suscipit a, scelerisque sed, lacinia in, mi.'  # plaintext\n",
    "    ciphertext = encrypt(key, plaintext)\n",
    "    print('Tekst jawny:', plaintext)\n",
    "    print('Szyfrogram:', ciphertext)\n",
    "    decrypted = decrypt(key, ciphertext)\n",
    "    print('Tekst odszyfrowany:', decrypted)\n",
    "\n",
    "main()"
   ]
  },
  {
   "cell_type": "markdown",
   "metadata": {
    "collapsed": true
   },
   "source": [
    "## Atak na RC4 i WEP\n",
    "Bias - odchylenie. Generator RC4 jest 'biased' to znaczy nie generuje rozkładu idealnie jednostajnego. \n",
    "Liczne ataki na RC4 i WEP (za Wikipedią i innymi źródłami)c:\n",
    "- ,,In 1995, Andrew Roos experimentally observed that the first byte of the keystream is correlated to the first three bytes of the key and the first few bytes of the permutation after the KSA are correlated to some linear combination of the key bytes.''\n",
    "\n",
    "- In August 2001, Scott Fluhrer, Itsik Mantin, and Adi Shamir published a cryptanalysis of WEP that exploits the way the RC4 ciphers and IV are used in WEP, resulting in a passive attack that can recover the RC4 key after eavesdropping on the network. Depending on the amount of network traffic, and thus the number of packets available for inspection, a successful key recovery could take as little as one minute. If an insufficient number of packets are being sent, there are ways for an attacker to send packets on the network and thereby stimulate reply packets which can then be inspected to find the key. The attack was soon implemented, and automated tools have since been released. It is possible to perform the attack with a personal computer, off-the-shelf hardware and freely available software such as aircrack-ng to crack any WEP key in minutes.\n",
    "\n",
    "- In 2005, a group from the U.S. Federal Bureau of Investigation gave a demonstration where they cracked a WEP-protected network in 3 minutes using publicly available tools.[14] Andreas Klein presented another analysis of the RC4 stream cipher. Klein showed that there are more correlations between the RC4 keystream and the key than the ones found by Fluhrer, Mantin and Shamir which can additionally be used to break WEP in WEP-like usage modes.\n",
    "\n",
    "- In 2007, Erik Tews, Andrei Pychkine, and Ralf-Philipp Weinmann were able to extend Klein's 2005 attack and optimize it for usage against WEP. With the new attack it is possible to recover a 104-bit WEP key with probability 50% using only 40,000 captured packets. For 60,000 available data packets, the success probability is about 80% and for 85,000 data packets about 95%. Using active techniques like deauth and ARP re-injection, 40,000 packets can be captured in less than one minute under good conditions. The actual computation takes about 3 seconds and 3 MB of main memory on a Pentium-M 1.7 GHz and can additionally be optimized for devices with slower CPUs. The same attack can be used for 40-bit keys with an even higher success probability.\n",
    "\n",
    "- In 2015, security researchers from KU Leuven presented new attacks against RC4 in both TLS and WPA-TKIP.[54] Dubbed the Numerous Occurrence MOnitoring & Recovery Exploit (NOMORE) attack, it is the first attack of its kind that was demonstrated in practice. Their attack against TLS can decrypt a secure HTTP cookie within 75 hours. The attack against WPA-TKIP can be completed within an hour, and allows an attacker to decrypt and inject arbitrary packets."
   ]
  },
  {
   "cell_type": "markdown",
   "metadata": {},
   "source": [
    "## Jak sprawdzać losowość ciągu? Testy losowaości.  \n",
    "\n",
    "1. Poszukaj informacji o kryptograficznych generatorach liczb pseudolosowych. Jaki jest najważniejsza własność generatora z punktu widzenia kryptografii? \n",
    "2. Przykładowy test losowości monobit (https://csrc.nist.gov/publications/detail/sp/800-22/rev-1a/final). Przeanalizuj kod. "
   ]
  },
  {
   "cell_type": "code",
   "execution_count": null,
   "metadata": {},
   "outputs": [],
   "source": [
    "import numpy\n",
    "import math\n",
    "from scipy import special as spc\n",
    "\n",
    "def monobit(bin_data: str):\n",
    "    \"\"\"\n",
    "    Note that this description is taken from the NIST documentation [1]\n",
    "    [1] http://csrc.nist.gov/publications/nistpubs/800-22-rev1a/SP800-22rev1a.pdf\n",
    "  \n",
    "    The focus of this test is the proportion of zeros and ones for the entire sequence. The purpose of this test is\n",
    "    to determine whether the number of ones and zeros in a sequence are approximately the same as would be expected\n",
    "    for a truly random sequence. This test assesses the closeness of the fraction of ones to 1/2, that is the number\n",
    "    of ones and zeros ina  sequence should be about the same. All subsequent tests depend on this test.\n",
    "  \n",
    "    :param bin_data: a binary string\n",
    "    :return: the p-value from the test\n",
    "    \"\"\"\n",
    "    count = 0\n",
    "    # If the char is 0 minus 1, else add 1\n",
    "    for char in bin_data:\n",
    "        if char == '0':\n",
    "            count -= 1\n",
    "        else:\n",
    "            count += 1\n",
    "    # Calculate the p value\n",
    "    sobs = count / math.sqrt(len(bin_data))\n",
    "    p_val = spc.erfc(math.fabs(sobs) / math.sqrt(2))\n",
    "    return p_val\n",
    "\n",
    "\n",
    "#Generowanie n-bitowego ciągu \n",
    "n=3\n",
    "#arr = numpy.random.randint(2, size=(n,))\n",
    "bitString = []\n",
    "for i in range(0, 1024):\n",
    "    x = str(numpy.random.randint(0, 2))\n",
    "    bitString.append(x)\n",
    "arr = ''.join(bitString)\n",
    "print(arr)\n",
    "print(monobit(arr))"
   ]
  },
  {
   "cell_type": "markdown",
   "metadata": {},
   "source": [
    "Poniższy test nazywa się runs i opiera się na zliczaniu serii nieprzerwanych ciągów 0 albo 1 w ciągu wejściowym. Ocenia czy ich ilość jest taka jak przewidywana dla danych losowych.\n",
    "\n",
    "W samym teście najpierw wyliczamy wartość pi, czyli stosunek liczby jedynek do długości ciągu wejściowego. Następnie sprawdzamy czy ten stosunek mieści się w rozsądnym przedziale, co sprawdzamy za pomocą wyliczenia wartości tau, które wynosi 2/sqrt(n) gdzie n to długość ciągu wejściowego. Im dłuższy ciąg, tym bardziej pi powinno zbliżać się do 1/2. Jeżeli okaże się, że wartość ta za bardzo odstaje od przewidywanej, nie trzeba stosować testu runs aby stwierdzić, że dane wejściowe nie wyglądają losowo.\n",
    "\n",
    "Następnie zliczamy faktyczną liczbę nieprzerwanych ciągów tych samych wartości. Wyliczamy p_value stosując korzystając z funkcji zaproponowanej przez autorów testu. Na końcu sprawdzamy, czy p_value jest większe niż 1%. Jeżeli jest, test zostaje zakończony pomyślnie."
   ]
  },
  {
   "cell_type": "code",
   "execution_count": null,
   "metadata": {},
   "outputs": [],
   "source": [
    "import numpy\n",
    "import math\n",
    "from scipy import special as spc\n",
    "\n",
    "def count_ones(bin_data: str):\n",
    "    count=0\n",
    "    for l in bin_data:\n",
    "        if l=='1':\n",
    "            count+=1\n",
    "    return count\n",
    "\n",
    "def runs(bin_data: str):\n",
    "    \"\"\"\n",
    "    Note that this description is taken from the NIST documentation [1]\n",
    "    [1] http://csrc.nist.gov/publications/nistpubs/800-22-rev1a/SP800-22rev1a.pdf\n",
    "  \n",
    "    The focus of this test is the total number of runs in the sequence,\n",
    "    where a run is an uninterrupted sequence of identical bits.  \n",
    "    A run of length k consists of exactly k identical bits and is bounded\n",
    "    before and after with a bit of the opposite value. \n",
    "    The purpose of the runs test is to determine whether the number of runs of\n",
    "    ones and zeros of various lengths is as expected for a random sequence. \n",
    "    In particular, this test determines whether the oscillation between such\n",
    "    zeros and ones is too fast or too slow. \n",
    "\n",
    "\n",
    "    :param bin_data: a binary string\n",
    "    :return: the p-value from the test\n",
    "    \"\"\"\n",
    "    n = len(bin_data)\n",
    "    pi = count_ones(bin_data)/n\n",
    "    tau = 2/math.sqrt(n)\n",
    "    \n",
    "    if abs(pi - 1/2) >= tau:\n",
    "        print(\"Test Monobit nie powinien zostać zaliczony.\")\n",
    "        return 0\n",
    "    \n",
    "    count = 1\n",
    "    # If the char at next index is different, there is a new run\n",
    "    for i in range(n-1):\n",
    "        if bin_data[i] != bin_data[i+1]:\n",
    "            count+=1\n",
    "            \n",
    "    # Calculate the p value\n",
    "    p_val = spc.erfc((abs(count-2*n*pi*(1-pi)))/(2*math.sqrt(2*n)*pi*(1-pi)))\n",
    "    return p_val\n",
    "\n",
    "\n",
    "# Generowanie n-bitowego ciągu \n",
    "n=3\n",
    "arr = numpy.random.randint(2, size=(n,))\n",
    "bitString = []\n",
    "for i in range(0, 1024):\n",
    "    x = str(numpy.random.randint(0, 2))\n",
    "    bitString.append(x)\n",
    "arr = ''.join(bitString)\n",
    "# arr = '1001101011' - taki przykład podano w opisie testu, wynik wynosi zgodnie z opisem 0.147232\n",
    "print(arr)\n",
    "res = runs(arr)\n",
    "if res > 0.01:\n",
    "    print(\"Test zakończony pomyślnie:\")\n",
    "else:\n",
    "    print(\"Test niezaliczony:\")\n",
    "print(res)"
   ]
  }
 ],
 "metadata": {
  "kernelspec": {
   "display_name": "Python 3",
   "language": "python",
   "name": "python3"
  },
  "language_info": {
   "codemirror_mode": {
    "name": "ipython",
    "version": 3
   },
   "file_extension": ".py",
   "mimetype": "text/x-python",
   "name": "python",
   "nbconvert_exporter": "python",
   "pygments_lexer": "ipython3",
   "version": "3.8.5"
  }
 },
 "nbformat": 4,
 "nbformat_minor": 1
}